{
  "cells": [
    {
      "cell_type": "markdown",
      "metadata": {
        "id": "VGhYlnlN3ayI"
      },
      "source": [
        "## Цикли. Упражнение/изпитване."
      ]
    },
    {
      "cell_type": "markdown",
      "metadata": {
        "id": "0qO3DfA13ayJ"
      },
      "source": [
        "**Задача 1:** Допълнете кода, така че да изведе числата от 7 до -3."
      ]
    },
    {
      "cell_type": "code",
      "execution_count": null,
      "metadata": {
        "id": "ppIUA4NB3ayJ"
      },
      "outputs": [],
      "source": [
        "number = _\n",
        "while number >= _:\n",
        "\tprint(number, end=\" \")\n",
        "\tnumber -= _"
      ]
    },
    {
      "cell_type": "markdown",
      "metadata": {
        "id": "MDnDtg2K3ayJ"
      },
      "source": [
        "**Задача 2:** Функцията show_letters приема стринг като входен параметър, и трябва да принтира всички символи съставящи стринга, всеки на нов ред от първия към последния. Допълнете кода, така че да съответства на горното описание."
      ]
    },
    {
      "cell_type": "code",
      "execution_count": null,
      "metadata": {
        "id": "5bUzGU013ayJ",
        "outputId": "e872e64d-5856-46bd-9d16-302f234f9f66"
      },
      "outputs": [
        {
          "name": "stdout",
          "output_type": "stream",
          "text": [
            "H\n",
            "e\n",
            "l\n",
            "l\n",
            "o\n"
          ]
        }
      ],
      "source": [
        "def show_letters(word):\n",
        "\tfor _ in _:\n",
        "\t\tprint(_)\n",
        "\n",
        "show_letters(\"Hello\")\n",
        "# Should print one line per letter"
      ]
    },
    {
      "cell_type": "markdown",
      "metadata": {
        "id": "p43eqU8A3ayJ"
      },
      "source": [
        "**Задача 3:** Допълнете функцията digits(n), която връща броя на цифрите в числото n. Примерно: 25 има 2 цифри, 144 има 3 цифри. Подсказка: можете да разберете броя на цифирите делейки на 10, докато резултатът стане по-малък от 0.\n",
        "\n",
        "\n",
        "**Забележка** Функцията работи само с цели положителни числа."
      ]
    },
    {
      "cell_type": "code",
      "execution_count": 11,
      "metadata": {
        "colab": {
          "base_uri": "https://localhost:8080/"
        },
        "id": "HJ672u7v3ayK",
        "outputId": "0742729e-df58-441f-a944-7ab2f00e4b1f"
      },
      "outputs": [
        {
          "output_type": "stream",
          "name": "stdout",
          "text": [
            "2\n",
            "3\n",
            "4\n",
            "4\n",
            "1\n"
          ]
        }
      ],
      "source": [
        "\n",
        "def digits(n):\n",
        "\tcount = 0\n",
        "\tif n _ 10:\n",
        "\t  return 1\n",
        "\twhile n >= _ :\n",
        "\t\tcount += _\n",
        "\t\tn = _/_\n",
        "\treturn count\n",
        "\n",
        "print(digits(25.44))   # Трябва да принтира 2\n",
        "print(digits(144))  # Трябва да принтира 3\n",
        "print(digits(1000)) # Трябва да принтира 4\n",
        "print(digits(9999)) # Трябва да принтира 4\n",
        "print(digits(0))    # Трябва да принтира 1"
      ]
    },
    {
      "cell_type": "markdown",
      "metadata": {
        "id": "05Jf-bzK3ayK"
      },
      "source": [
        "**Задача 4:** Тази функция принтира квадрат от числа с размерност n x n. Числата във квадрата съответстват на номера на колоната, примерно всички числа във втора колона имат стойност 2, всики числа в първа колона имат стойност 1-ца и т.н.\n",
        "\n",
        "Квадрат с размерност 3х3\n",
        "\n",
        "1 2 3\n",
        "\n",
        "1 2 3\n",
        "\n",
        "1 2 3"
      ]
    },
    {
      "cell_type": "code",
      "execution_count": 15,
      "metadata": {
        "colab": {
          "base_uri": "https://localhost:8080/"
        },
        "id": "fm6oOref3ayK",
        "outputId": "ec8fe731-25a8-4d24-bbf0-57dc4e258757"
      },
      "outputs": [
        {
          "output_type": "stream",
          "name": "stdout",
          "text": [
            "1 2 3 \n",
            "1 2 3 \n",
            "1 2 3 \n"
          ]
        }
      ],
      "source": [
        "def print_square(n):\n",
        "\tfor r in range(_, _):\n",
        "\t\tfor c in range(_, _):\n",
        "\t\t\tprint(_, end=\" \")\n",
        "\t\tprint()\n",
        "\n",
        "print_square(3)"
      ]
    },
    {
      "cell_type": "markdown",
      "metadata": {
        "id": "8DSPJxqB3ayK"
      },
      "source": [
        "**Задача 5:** Функцията counter изброява последователно целите числа от началното към крайното. Когато началното(start) е по-малко или равно от крайното(stop), изписва \"Counting up: start, start + 1, ..., stop. Примерно извикване към counter(1, 3), трябва да върне като резултат стринга \"Counting up: 1, 2, 3\". Обратно, ако числото start e по-голямо от stop, функцията трябва да върне стринг \"Counting down: start, start-1, ..., stop\". Примерно извикване към counter(3, 1), трябва да върне като резултат стринга \"Counting down: 3, 2, 1\".\n",
        "\n"
      ]
    },
    {
      "cell_type": "code",
      "execution_count": 16,
      "metadata": {
        "colab": {
          "base_uri": "https://localhost:8080/"
        },
        "id": "Az3yjU0z3ayK",
        "outputId": "063becae-b2ad-48d0-c8dd-2a2b996757cd"
      },
      "outputs": [
        {
          "output_type": "stream",
          "name": "stdout",
          "text": [
            "Counting up: 1,2,3,4,5,6,7,8,9,10\n",
            "Counting down: 2,1\n",
            "Counting up: 5\n"
          ]
        }
      ],
      "source": [
        "def counter(start, stop):\n",
        "\tx = start\n",
        "\tif _ > _:\n",
        "\t\treturn_string = \"Counting down: \"\n",
        "\t\twhile x __ stop:\n",
        "\t\t\treturn_string += str(_)\n",
        "\t\t\tif x != stop: #след междинните числа трябва да добавим запетая\n",
        "\t\t\t\treturn_string += \"_\"\n",
        "\t\t\tx _= _\n",
        "\telse:\n",
        "\t\treturn_string = \"Counting up: \"\n",
        "\t\twhile x __ stop:\n",
        "\t\t\treturn_string += str(_)\n",
        "\t\t\tif x != stop:#след междинните числа трябва да добавим запетая\n",
        "\t\t\t\treturn_string += \"_\"\n",
        "\t\t\tx _= _\n",
        "\treturn return_string\n",
        "\n",
        "print(counter(1, 10)) # Трябва да принтира \"Counting up: 1,2,3,4,5,6,7,8,9,10\"\n",
        "print(counter(2, 1)) # Трябва да принтира \"Counting down: 2,1\"\n",
        "print(counter(5, 5)) # Трябва да принтира \"Counting up: 5\""
      ]
    },
    {
      "cell_type": "markdown",
      "metadata": {
        "id": "dvpYzk863ayL"
      },
      "source": [
        "**Задача 6:** Функцията loop е подобна на range(): Приема 3 параметъра: начална точка start, крайна точка stop, и стъпка step. Ако началната точка е по-голяма от крайната, задава отрицателна стъпка. Обратно, когато началната точка е по-малка от крайната, задава положителна стъпка. Също така ако стъпката е 0, автоматично я прави 1 или -1 в зависимост от ситуацията. Резултатът е стринг от числа разделени с интервали. Примерно, loop(11,2,3), трябва да върне \"11 8 5\", loop(1,5,0) трябва да върне \"1 2 3 4\". Също както при range, крайното число stop се пропуска. Допълнете функцията по-долу, така че да се държи според описанието.\n",
        "\n",
        "**Забележка** Стандартната функция abs(n) връща абсолютната стойност на подадения параметър n. abs(5) -> 5, abs(-5) -> 5"
      ]
    },
    {
      "cell_type": "code",
      "execution_count": 20,
      "metadata": {
        "colab": {
          "base_uri": "https://localhost:8080/"
        },
        "id": "ctSfF3803ayM",
        "outputId": "eabd8273-ed2e-4a09-8ee0-83d49515c294"
      },
      "outputs": [
        {
          "output_type": "stream",
          "name": "stdout",
          "text": [
            "11 8 5\n",
            "1 2 3 4\n",
            "-1\n",
            "10 12 14 16 18 20 22 24\n",
            "\n",
            "1\n",
            "2\n",
            "3\n",
            "4\n",
            "5\n",
            "6\n"
          ]
        }
      ],
      "source": [
        "def loop(start, stop, step):\n",
        "\treturn_string = \"\"\n",
        "\tif step == 0:\n",
        "\t\tstep = _\n",
        "\tif start > stop:\n",
        "\t\tstep = abs(_) * -1\n",
        "\telse:\n",
        "\t\tstep = abs(_)\n",
        "\tfor count in range(start,stop,step):\n",
        "\t\treturn_string += str(_) + \" \"\n",
        "\treturn return_string.strip()\n",
        "\n",
        "print(loop(11,2,3)) # Should be 11 8 5\n",
        "print(loop(1,5,0)) # Should be 1 2 3 4\n",
        "print(loop(-1,-2,0)) # Should be -1\n",
        "print(loop(10,25,-2)) # Should be 10 12 14 16 18 20 22 24\n",
        "print(loop(1,1,1)) # Should be empty"
      ]
    },
    {
      "cell_type": "markdown",
      "source": [
        "**Задача 7:** Фермер е произвел реколта от 20т. ябълки през 2001 година. Всяка следваща година реколкотата му се увеличава с 5 процента. Допълнете програмата по-долу, така че да принтрира през коя година реколкотата на фермера ще надвиши 130т. Ако сте работили правилно вашият скрипт трябва да отпечата \"The year that the harvest exceeds 130 tones is: 2007\"."
      ],
      "metadata": {
        "id": "fpK9BRgcL_6u"
      }
    },
    {
      "cell_type": "code",
      "source": [
        "harvest = _\n",
        "year = 2001\n",
        "while harvest _ _ :\n",
        "  year += 1\n",
        "  harvest = harvest * _\n",
        "print(\"The year that the harvest exceeds 130 tones is: \" + str(year))"
      ],
      "metadata": {
        "colab": {
          "base_uri": "https://localhost:8080/"
        },
        "id": "0_e8W9_VNRCQ",
        "outputId": "dfc443c6-5639-4547-fd2d-2f0e93631344"
      },
      "execution_count": 23,
      "outputs": [
        {
          "output_type": "stream",
          "name": "stdout",
          "text": [
            "The year that the harvest exceeds 130 tones is: 2007\n"
          ]
        }
      ]
    }
  ],
  "metadata": {
    "kernelspec": {
      "display_name": "Python 3",
      "language": "python",
      "name": "python3"
    },
    "language_info": {
      "codemirror_mode": {
        "name": "ipython",
        "version": 3
      },
      "file_extension": ".py",
      "mimetype": "text/x-python",
      "name": "python",
      "nbconvert_exporter": "python",
      "pygments_lexer": "ipython3",
      "version": "3.7.4"
    },
    "colab": {
      "provenance": []
    }
  },
  "nbformat": 4,
  "nbformat_minor": 0
}